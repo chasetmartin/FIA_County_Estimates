{
 "cells": [
  {
   "cell_type": "code",
   "execution_count": 1,
   "metadata": {},
   "outputs": [],
   "source": [
    "# import statements\n",
    "\n",
    "import requests\n",
    "import pandas as pd\n",
    "import ipywidgets as widgets"
   ]
  },
  {
   "cell_type": "code",
   "execution_count": 2,
   "metadata": {},
   "outputs": [],
   "source": [
    "# This code writes the function for the API POST request for the fullreport estimates\n",
    "# this function will accept a FIADB-API fullreport URL and return dataframes for the estimates as well as subtotals, and totals where available.\n",
    "\n",
    "def fiadb_api_POST(parameterDictionary):\n",
    "    # make request\n",
    "    resp = requests.post(r\"https://apps.fs.usda.gov/fiadb-api/fullreport\",data=parameterDictionary)\n",
    "    # parse response to json\n",
    "    data = resp.json()\n",
    "\n",
    "    # create output dictionary and populate it with estimate data frames\n",
    "    outDict = {}\n",
    "    # append estimates\n",
    "    outDict['estimates'] = pd.DataFrame(data['estimates'])\n",
    "\n",
    "    # append subtotals and totals if present\n",
    "    if 'subtotals' in data.keys():\n",
    "        subT = {}\n",
    "        for i in data['subtotals'].keys():\n",
    "            subT[i] = pd.DataFrame(data['subtotals'][i])\n",
    "        outDict['subtotals'] = subT\n",
    "        outDict['totals'] = pd.DataFrame(data['totals'])\n",
    "\n",
    "    # append metadata\n",
    "    outDict['metadata'] = data['metadata']\n",
    "    return outDict"
   ]
  },
  {
   "cell_type": "code",
   "execution_count": 3,
   "metadata": {},
   "outputs": [],
   "source": [
    "# This code writes the furnction for the API GET request to retreive all available Evaluation groups (wc codes)\n",
    "# The EVALID column consists of the state FIPS code and the 4 digit inventory code\n",
    "# The EVAL_GRP column is the 6 digit code that we need to send to the API in our POST request for a given state and report year, as the wc parameter in our POST dictionary\n",
    "\n",
    "def fiadb_api_wc_GET(url):\n",
    "    # make request\n",
    "    resp = requests.get(url)\n",
    "    # parse response to json\n",
    "    data = resp.json()\n",
    "\n",
    "    output = pd.DataFrame(data)\n",
    "\n",
    "    return output\n",
    "\n",
    "url = 'https://apps.fs.usda.gov/fiadb-api/fullreport/parameters/wc?outputFormat=JSON'\n",
    "wc_data = fiadb_api_wc_GET(url)"
   ]
  },
  {
   "cell_type": "code",
   "execution_count": 32,
   "metadata": {},
   "outputs": [
    {
     "data": {
      "application/vnd.jupyter.widget-view+json": {
       "model_id": "4fb10718d82943c395f26489eb9359a4",
       "version_major": 2,
       "version_minor": 0
      },
      "text/plain": [
       "Dropdown(description='Choose State and Report Year EVALID:', options=(' 012022 ALABAMA', ' 012021 ALABAMA', ' …"
      ]
     },
     "metadata": {},
     "output_type": "display_data"
    }
   ],
   "source": [
    "# This code block will use the wc data from our GET request to populate a dropdown list\n",
    "\n",
    "wc_data_sort = list(wc_data[['EVALID']].EVALID)\n",
    "\n",
    "stateEVALID = widgets.Dropdown(\n",
    "    options=wc_data_sort,\n",
    "    value=wc_data_sort[0],\n",
    "    description='Choose State and Report Year EVALID:',\n",
    "    disabled=False,\n",
    ")\n",
    "\n",
    "display(stateEVALID)\n",
    "\n",
    "# The user should select which state/report they would like to pull data for using the dropdown below:\n",
    "# THE LAST 4 DIGITS OF THE NUMBER IS THE YEAR OF THE REPORT"
   ]
  },
  {
   "cell_type": "code",
   "execution_count": 17,
   "metadata": {},
   "outputs": [
    {
     "name": "stdout",
     "output_type": "stream",
     "text": [
      "Your Selected State is: COLORADO\n",
      "EVALID CODE: 082019\n"
     ]
    }
   ],
   "source": [
    "# Now we need to split the resulting string variable from the dropdown choice into the report code and state name:\n",
    "\n",
    "statereportlist = stateEVALID.value.split()\n",
    "statename = statereportlist[1]\n",
    "statereportcode = statereportlist[0]\n",
    "\n",
    "print('Your Selected State is: ' + statename)\n",
    "print('EVALID CODE: ' + statereportcode)"
   ]
  },
  {
   "cell_type": "code",
   "execution_count": 18,
   "metadata": {},
   "outputs": [],
   "source": [
    "# The following code blocks will make the API requests for each estimate type\n",
    "\n",
    "# 79_SAMPLEDLANDWATER_ACRES\n",
    "slw_parameters = {'snum':'79', 'wc':statereportcode, 'rselected':'County code and name', 'cselected':'State', 'outputFormat':'NJSON'}\n",
    "sampledlandwater_acres_GET = fiadb_api_POST(slw_parameters)"
   ]
  },
  {
   "cell_type": "code",
   "execution_count": 19,
   "metadata": {},
   "outputs": [],
   "source": [
    "# 2_FORESTLAND_ACRES\n",
    "fl_parameters = {'snum':'2', 'wc':statereportcode, 'rselected':'County code and name', 'cselected':'State', 'outputFormat':'NJSON'}\n",
    "forestland_acres_GET = fiadb_api_POST(fl_parameters)"
   ]
  },
  {
   "cell_type": "code",
   "execution_count": 20,
   "metadata": {},
   "outputs": [],
   "source": [
    "# 20_NETSAWLOGVOLSAWTMBR_BRDFT\n",
    "nslv_parameters = {'snum':'20', 'wc':statereportcode, 'rselected':'County code and name', 'cselected':'State', 'outputFormat':'NJSON'}\n",
    "nslv_brdft_GET = fiadb_api_POST(nslv_parameters)"
   ]
  },
  {
   "cell_type": "code",
   "execution_count": 21,
   "metadata": {},
   "outputs": [],
   "source": [
    "# 14_NETMERCHBOLELIVETREES_CBFT\n",
    "nmblt_parameters = {'snum':'14', 'wc':statereportcode, 'rselected':'County code and name', 'cselected':'State', 'outputFormat':'NJSON'}\n",
    "nmblt_cbft_GET = fiadb_api_POST(nmblt_parameters)"
   ]
  },
  {
   "cell_type": "code",
   "execution_count": 22,
   "metadata": {},
   "outputs": [],
   "source": [
    "# 203_AVGNETGROWTHSAWTMBR_BRDFT\n",
    "angst_parameters = {'snum':'203', 'wc':statereportcode, 'rselected':'County code and name', 'cselected':'State', 'outputFormat':'NJSON'}\n",
    "angst_brdft_GET = fiadb_api_POST(angst_parameters)"
   ]
  },
  {
   "cell_type": "code",
   "execution_count": 23,
   "metadata": {},
   "outputs": [],
   "source": [
    "# Average annual gross growth of sawlog volume of sawtimber trees, in board feet\n",
    "# 1203_AVGANNGROSSGROWTHSAWTMBR_BRDFT\n",
    "aaggst_parameters = {'snum':'1203', 'wc':statereportcode, 'rselected':'County code and name', 'cselected':'State', 'outputFormat':'NJSON'}\n",
    "aaggst_brdft_GET = fiadb_api_POST(aaggst_parameters)"
   ]
  },
  {
   "cell_type": "code",
   "execution_count": 24,
   "metadata": {},
   "outputs": [],
   "source": [
    "# 227_AVGREMOVALSAWTMBR_BRDFT\n",
    "arst_parameters = {'snum':'227', 'wc':statereportcode, 'rselected':'County code and name', 'cselected':'State', 'outputFormat':'NJSON'}\n",
    "arst_brdft_GET = fiadb_api_POST(arst_parameters)"
   ]
  },
  {
   "cell_type": "code",
   "execution_count": 25,
   "metadata": {},
   "outputs": [],
   "source": [
    "# 98_CARBONLIVEABOVEGRND_MT\n",
    "clab_parameters = {'snum':'98', 'wc':statereportcode, 'rselected':'County code and name', 'cselected':'State', 'outputFormat':'NJSON'}\n",
    "clab_mt_GET = fiadb_api_POST(clab_parameters)"
   ]
  },
  {
   "cell_type": "code",
   "execution_count": 26,
   "metadata": {},
   "outputs": [],
   "source": [
    "# This code block will format the returned data for each estimate type, and rename the columns with the Estimate ID at the beginning\n",
    "\n",
    "# 79_SAMPLEDLANDWATER_ACRES\n",
    "sampledlandwater_acres = sampledlandwater_acres_GET['estimates']\n",
    "slw_acres = sampledlandwater_acres[['GRP1', 'ESTIMATE', 'SE', 'SE_PERCENT', 'PLOT_COUNT']]\n",
    "slw_79_acres = slw_acres.rename(columns={'GRP1': 'STATE_COUNTY_CODE', 'ESTIMATE': '79_SAMPLEDLANDWATER_ACRES', 'SE': '79_SE', 'SE_PERCENT': '79_SE_PERCENT', 'PLOT_COUNT': '79_PLOT_COUNT'})\n",
    "\n",
    "# 2_FORESTLAND_ACRES\n",
    "forestland_acres = forestland_acres_GET['estimates']\n",
    "fl_acres = forestland_acres[['GRP1', 'ESTIMATE', 'SE', 'SE_PERCENT', 'PLOT_COUNT']]\n",
    "fl_2_acres = fl_acres.rename(columns={'GRP1': 'STATE_COUNTY_CODE', 'ESTIMATE': '2_FORESTLAND_ACRES', 'SE': '2_SE', 'SE_PERCENT': '2_SE_PERCENT', 'PLOT_COUNT': '2_PLOT_COUNT'})\n",
    "\n",
    "# 20_NETSAWLOGVOLSAWTMBR_BRDFT\n",
    "nslv_brdft = nslv_brdft_GET['estimates']\n",
    "nslv_brdft_temp = nslv_brdft[['GRP1', 'ESTIMATE', 'SE', 'SE_PERCENT', 'PLOT_COUNT']]\n",
    "nslv_20_brdft = nslv_brdft_temp.rename(columns={'GRP1': 'STATE_COUNTY_CODE', 'ESTIMATE': '20_NETSAWLOGVOLSAWTMBR_BRDFT', 'SE': '20_SE', 'SE_PERCENT': '20_SE_PERCENT', 'PLOT_COUNT': '20_PLOT_COUNT'})\n",
    "\n",
    "# 14_NETMERCHBOLELIVETREES_CBFT\n",
    "nmblt_cbft = nmblt_cbft_GET['estimates']\n",
    "nmblt_cbft_temp = nmblt_cbft[['GRP1', 'ESTIMATE', 'SE', 'SE_PERCENT', 'PLOT_COUNT']]\n",
    "nmblt_14_cbft = nmblt_cbft_temp.rename(columns={'GRP1': 'STATE_COUNTY_CODE', 'ESTIMATE': '14_NETMERCHBOLELIVETREES_CBFT', 'SE': '14_SE', 'SE_PERCENT': '14_SE_PERCENT', 'PLOT_COUNT': '14_PLOT_COUNT'})\n",
    "\n",
    "# 203_AVGNETGROWTHSAWTMBR_BRDFT\n",
    "angst_brdft = angst_brdft_GET['estimates']\n",
    "angst_brdft_temp = angst_brdft[['GRP1', 'ESTIMATE', 'SE', 'SE_PERCENT', 'PLOT_COUNT']]\n",
    "angst_203_brdft = angst_brdft_temp.rename(columns={'GRP1': 'STATE_COUNTY_CODE', 'ESTIMATE': '203_AVGNETGROWTHSAWTMBR_BRDFT', 'SE': '203_SE', 'SE_PERCENT': '203_SE_PERCENT', 'PLOT_COUNT': '203_PLOT_COUNT'})\n",
    "\n",
    "# 1203_AVGANNGROSSGROWTHSAWTMBR_BRDFT\n",
    "aaggst_brdft = aaggst_brdft_GET['estimates']\n",
    "aaggst_brdft_temp = aaggst_brdft[['GRP1', 'ESTIMATE', 'SE', 'SE_PERCENT', 'PLOT_COUNT']]\n",
    "aaggst_1203_brdft = aaggst_brdft_temp.rename(columns={'GRP1': 'STATE_COUNTY_CODE', 'ESTIMATE': '1203_AVGANNGROSSGROWTHSAWTMBR_BRDFT', 'SE': '1203_SE', 'SE_PERCENT': '1203_SE_PERCENT', 'PLOT_COUNT': '1203_PLOT_COUNT'})\n",
    "\n",
    "# 227_AVGREMOVALSAWTMBR_BRDFT\n",
    "arst_brdft = arst_brdft_GET['estimates']\n",
    "arst_brdft_temp = arst_brdft[['GRP1', 'ESTIMATE', 'SE', 'SE_PERCENT', 'PLOT_COUNT']]\n",
    "arst_227_brdft = arst_brdft_temp.rename(columns={'GRP1': 'STATE_COUNTY_CODE', 'ESTIMATE': '227_AVGREMOVALSAWTMBR_BRDFT', 'SE': '227_SE', 'SE_PERCENT': '227_SE_PERCENT', 'PLOT_COUNT': '227_PLOT_COUNT'})\n",
    "\n",
    "# 98_CARBONLIVEABOVEGRND_MT\n",
    "clab_mt = clab_mt_GET['estimates']\n",
    "clab_mt_temp = clab_mt[['GRP1', 'ESTIMATE', 'SE', 'SE_PERCENT', 'PLOT_COUNT']]\n",
    "clab_98_mt = clab_mt_temp.rename(columns={'GRP1': 'STATE_COUNTY_CODE', 'ESTIMATE': '98_CARBONLIVEABOVEGRND_MT', 'SE': '98_SE', 'SE_PERCENT': '98_SE_PERCENT', 'PLOT_COUNT': '98_PLOT_COUNT'})"
   ]
  },
  {
   "cell_type": "code",
   "execution_count": 27,
   "metadata": {},
   "outputs": [],
   "source": [
    "# This code block performs the Left Join on dataframes\n",
    "state_data = slw_79_acres.merge(\n",
    "    fl_2_acres, how='left', on='STATE_COUNTY_CODE').merge(\n",
    "    nslv_20_brdft, how='left', on='STATE_COUNTY_CODE').merge(\n",
    "    nmblt_14_cbft, how='left', on='STATE_COUNTY_CODE').merge(\n",
    "    angst_203_brdft, how='left', on='STATE_COUNTY_CODE').merge(\n",
    "    aaggst_1203_brdft, how='left', on='STATE_COUNTY_CODE').merge(\n",
    "    arst_227_brdft, how='left', on='STATE_COUNTY_CODE').merge(\n",
    "    clab_98_mt, how='left', on='STATE_COUNTY_CODE')\n",
    "\n",
    "# Rounding the data to 2 decimal places\n",
    "state_data = state_data.round(2)\n",
    "\n",
    "# Filling na values as zeros\n",
    "state_data_final = state_data.fillna('')"
   ]
  },
  {
   "cell_type": "code",
   "execution_count": 28,
   "metadata": {},
   "outputs": [],
   "source": [
    "#This code block exports the results as a .csv named with the state and fia report code\n",
    "\n",
    "state_data_final.to_csv('./state_data_csv_files/' + statename + '_' + statereportcode + '.csv', index=False)"
   ]
  }
 ],
 "metadata": {
  "kernelspec": {
   "display_name": ".venv",
   "language": "python",
   "name": "python3"
  },
  "language_info": {
   "codemirror_mode": {
    "name": "ipython",
    "version": 3
   },
   "file_extension": ".py",
   "mimetype": "text/x-python",
   "name": "python",
   "nbconvert_exporter": "python",
   "pygments_lexer": "ipython3",
   "version": "3.9.6"
  },
  "orig_nbformat": 4,
  "vscode": {
   "interpreter": {
    "hash": "1d97a4fcfa917332c50e66a2d2d0dafeba53c72f3d00f843a277325a1f7c3e2e"
   }
  }
 },
 "nbformat": 4,
 "nbformat_minor": 2
}
