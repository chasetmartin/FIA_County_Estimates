{
 "cells": [
  {
   "cell_type": "code",
   "execution_count": 30,
   "metadata": {},
   "outputs": [],
   "source": [
    "#POST FUNCTION TEST\n",
    "\n",
    "import requests\n",
    "import pandas as pd\n",
    "\n",
    "#----THIS CODE IS DIRECTLY FROM https://apps.fs.usda.gov/fiadb-api DOCUMENTATION----\n",
    "#This code writes the function for the API request\n",
    "# this function will accept a FIADB-API fullreport URL and return dataframes for the estimates as well as subtotals, and totals where available.\n",
    "\n",
    "def fiadb_api_POST(parameterDictionary):\n",
    "    # make request\n",
    "    resp = requests.post(r\"https://apps.fs.usda.gov/fiadb-api/fullreport\",data=parameterDictionary)\n",
    "    # parse response to json\n",
    "    data = resp.json()\n",
    "\n",
    "    # create output dictionary and populate it with estimate data frames\n",
    "    outDict = {}\n",
    "    # append estimates\n",
    "    outDict['estimates'] = pd.DataFrame(data['estimates'])\n",
    "\n",
    "    # append subtotals and totals if present\n",
    "    if 'subtotals' in data.keys():\n",
    "        subT = {}\n",
    "        for i in data['subtotals'].keys():\n",
    "            subT[i] = pd.DataFrame(data['subtotals'][i])\n",
    "        outDict['subtotals'] = subT\n",
    "        outDict['totals'] = pd.DataFrame(data['totals'])\n",
    "\n",
    "    # append metadata\n",
    "    outDict['metadata'] = data['metadata']\n",
    "    return outDict"
   ]
  },
  {
   "cell_type": "code",
   "execution_count": 33,
   "metadata": {},
   "outputs": [],
   "source": [
    "# This code block will format the API request URL based on the chosen state - see markdown above\n",
    "\n",
    "#Colorado - 2019\n",
    "statecode = '082019'\n"
   ]
  },
  {
   "cell_type": "code",
   "execution_count": 34,
   "metadata": {},
   "outputs": [],
   "source": [
    "# This code block will make the API requests for each estimate type\n",
    "\n",
    "# 79_SAMPLEDLANDWATER_ACRES\n",
    "slw_parameters = {'snum':'79', 'wc':statecode, 'rselected':'County code and name', 'cselected':'State', 'outputFormat':'NJSON'}\n",
    "sampledlandwater_acres_GET = fiadb_api_POST(slw_parameters)\n",
    "\n",
    "# 2_FORESTLAND_ACRES\n",
    "fl_parameters = {'snum':'2', 'wc':statecode, 'rselected':'County code and name', 'cselected':'State', 'outputFormat':'NJSON'}\n",
    "forestland_acres_GET = fiadb_api_POST(fl_parameters)"
   ]
  },
  {
   "cell_type": "code",
   "execution_count": 35,
   "metadata": {},
   "outputs": [],
   "source": [
    "# This code block will format the returned data for each estimate and join them BY COUNTY, and export the final .csv\n",
    "sampledlandwater_acres = sampledlandwater_acres_GET['estimates']\n",
    "slw_acres = sampledlandwater_acres[['GRP1', 'ESTIMATE', 'SE', 'SE_PERCENT', 'PLOT_COUNT']]\n",
    "slw_79_acres = slw_acres.rename(columns={'GRP1': 'STATE_COUNTY_CODE', 'ESTIMATE': '79_SAMPLEDLANDWATER_ACRES'})\n",
    "\n",
    "forestland_acres = forestland_acres_GET['estimates']\n",
    "fl_acres = forestland_acres[['GRP1', 'ESTIMATE', 'SE', 'SE_PERCENT', 'PLOT_COUNT']]\n",
    "fl_2_acres = fl_acres.rename(columns={'GRP1': 'STATE_COUNTY_CODE', 'ESTIMATE': '2_FORESTLAND_ACRES'})\n",
    "\n",
    "# Inner Join attempt on these two dataframes\n",
    "CO_data = slw_79_acres.merge(fl_2_acres, how='left', on='STATE_COUNTY_CODE')\n",
    "CO_data_final = CO_data.fillna(0)"
   ]
  }
 ],
 "metadata": {
  "kernelspec": {
   "display_name": ".venv",
   "language": "python",
   "name": "python3"
  },
  "language_info": {
   "codemirror_mode": {
    "name": "ipython",
    "version": 3
   },
   "file_extension": ".py",
   "mimetype": "text/x-python",
   "name": "python",
   "nbconvert_exporter": "python",
   "pygments_lexer": "ipython3",
   "version": "3.9.6"
  },
  "orig_nbformat": 4,
  "vscode": {
   "interpreter": {
    "hash": "1d97a4fcfa917332c50e66a2d2d0dafeba53c72f3d00f843a277325a1f7c3e2e"
   }
  }
 },
 "nbformat": 4,
 "nbformat_minor": 2
}
