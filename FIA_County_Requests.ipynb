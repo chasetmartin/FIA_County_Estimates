{
 "cells": [
  {
   "cell_type": "code",
   "execution_count": 2,
   "metadata": {},
   "outputs": [],
   "source": [
    "import requests\n",
    "import pandas as pd\n",
    "\n",
    "#----THIS CODE IS DIRECTLY FROM https://apps.fs.usda.gov/fiadb-api DOCUMENTATION----\n",
    "# this function will accept a FIADB-API fullreport URL and return dataframes for the estimates as well as subtotals, and totals where available.\n",
    "\n",
    "def fiadb_api_GET(url):\n",
    "    # make request\n",
    "    resp = requests.get(url)\n",
    "    # parse response to json\n",
    "    data = resp.json()\n",
    "\n",
    "    # create output dictionary and populate it with estimate data frames\n",
    "    outDict = {}\n",
    "    # append estimates\n",
    "    outDict['estimates'] = pd.DataFrame(data['estimates'])\n",
    "\n",
    "    # append subtotals and totals if present\n",
    "    if 'subtotals' in data.keys():\n",
    "        subT = {}\n",
    "        for i in data['subtotals'].keys():\n",
    "            subT[i] = pd.DataFrame(data['subtotals'][i])\n",
    "        outDict['subtotals'] = subT\n",
    "        outDict['totals'] = pd.DataFrame(data['totals'])\n",
    "\n",
    "    # append metadata\n",
    "    outDict['metadata'] = data['metadata']\n",
    "    return outDict\n",
    "\n",
    "# example of usage\n",
    "url = \"https://apps.fs.usda.gov/fiadb-api/fullreport?rselected=Land%20Use%20-%20Major&cselected=Land%20use&snum=79&wc=102020&outputFormat=NJSON\"\n",
    "getData = fiadb_api_GET(url=url)\n",
    "\n",
    "# estimate data frame\n",
    "estimates = getData['estimates']\n",
    "\n",
    "# list of subtotal data frames\n",
    "subtotals = getData['subtotals']\n",
    "\n",
    "# totals data frame\n",
    "totals = getData['totals']\n",
    "\n",
    "# list all estimate metadata elements\n",
    "metadata = getData['metadata'].keys()\n",
    "\n",
    "# access metadata elements\n",
    "metadata2 = getData['metadata']"
   ]
  }
 ],
 "metadata": {
  "kernelspec": {
   "display_name": ".venv",
   "language": "python",
   "name": "python3"
  },
  "language_info": {
   "codemirror_mode": {
    "name": "ipython",
    "version": 3
   },
   "file_extension": ".py",
   "mimetype": "text/x-python",
   "name": "python",
   "nbconvert_exporter": "python",
   "pygments_lexer": "ipython3",
   "version": "3.9.6"
  },
  "orig_nbformat": 4
 },
 "nbformat": 4,
 "nbformat_minor": 2
}
