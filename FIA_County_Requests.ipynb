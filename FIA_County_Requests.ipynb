{
 "cells": [
  {
   "cell_type": "code",
   "execution_count": 1,
   "metadata": {},
   "outputs": [],
   "source": [
    "#POST FUNCTION TEST\n",
    "\n",
    "import requests\n",
    "import pandas as pd\n",
    "\n",
    "#----THIS CODE IS DIRECTLY FROM https://apps.fs.usda.gov/fiadb-api DOCUMENTATION----\n",
    "#This code writes the function for the API request\n",
    "# this function will accept a FIADB-API fullreport URL and return dataframes for the estimates as well as subtotals, and totals where available.\n",
    "\n",
    "def fiadb_api_POST(parameterDictionary):\n",
    "    # make request\n",
    "    resp = requests.post(r\"https://apps.fs.usda.gov/fiadb-api/fullreport\",data=parameterDictionary)\n",
    "    # parse response to json\n",
    "    data = resp.json()\n",
    "\n",
    "    # create output dictionary and populate it with estimate data frames\n",
    "    outDict = {}\n",
    "    # append estimates\n",
    "    outDict['estimates'] = pd.DataFrame(data['estimates'])\n",
    "\n",
    "    # append subtotals and totals if present\n",
    "    if 'subtotals' in data.keys():\n",
    "        subT = {}\n",
    "        for i in data['subtotals'].keys():\n",
    "            subT[i] = pd.DataFrame(data['subtotals'][i])\n",
    "        outDict['subtotals'] = subT\n",
    "        outDict['totals'] = pd.DataFrame(data['totals'])\n",
    "\n",
    "    # append metadata\n",
    "    outDict['metadata'] = data['metadata']\n",
    "    return outDict"
   ]
  },
  {
   "cell_type": "code",
   "execution_count": 2,
   "metadata": {},
   "outputs": [],
   "source": [
    "# This code block will store variables for the API request and .csv save formatting\n",
    "\n",
    "#Colorado - 2019\n",
    "statename = 'Colorado'\n",
    "statecode = '082019'\n",
    "\n",
    "# statename = 'Alabama'\n",
    "# statecode = '12022'"
   ]
  },
  {
   "cell_type": "code",
   "execution_count": 3,
   "metadata": {},
   "outputs": [],
   "source": [
    "# The following code blocks will make the API requests for each estimate type\n",
    "\n",
    "# 79_SAMPLEDLANDWATER_ACRES\n",
    "slw_parameters = {'snum':'79', 'wc':statecode, 'rselected':'County code and name', 'cselected':'State', 'outputFormat':'NJSON'}\n",
    "sampledlandwater_acres_GET = fiadb_api_POST(slw_parameters)"
   ]
  },
  {
   "cell_type": "code",
   "execution_count": 4,
   "metadata": {},
   "outputs": [],
   "source": [
    "# 2_FORESTLAND_ACRES\n",
    "fl_parameters = {'snum':'2', 'wc':statecode, 'rselected':'County code and name', 'cselected':'State', 'outputFormat':'NJSON'}\n",
    "forestland_acres_GET = fiadb_api_POST(fl_parameters)"
   ]
  },
  {
   "cell_type": "code",
   "execution_count": 5,
   "metadata": {},
   "outputs": [],
   "source": [
    "# 20_NETSAWLOGVOLSAWTMBR_BRDFT\n",
    "nslv_parameters = {'snum':'20', 'wc':statecode, 'rselected':'County code and name', 'cselected':'State', 'outputFormat':'NJSON'}\n",
    "nslv_brdft_GET = fiadb_api_POST(nslv_parameters)"
   ]
  },
  {
   "cell_type": "code",
   "execution_count": 6,
   "metadata": {},
   "outputs": [],
   "source": [
    "# 14_NETMERCHBOLELIVETREES_CBFT\n",
    "nmblt_parameters = {'snum':'14', 'wc':statecode, 'rselected':'County code and name', 'cselected':'State', 'outputFormat':'NJSON'}\n",
    "nmblt_cbft_GET = fiadb_api_POST(nmblt_parameters)"
   ]
  },
  {
   "cell_type": "code",
   "execution_count": 7,
   "metadata": {},
   "outputs": [],
   "source": [
    "# 203_AVGNETGROWTHSAWTMBR_BRDFT\n",
    "angst_parameters = {'snum':'203', 'wc':statecode, 'rselected':'County code and name', 'cselected':'State', 'outputFormat':'NJSON'}\n",
    "angst_brdft_GET = fiadb_api_POST(angst_parameters)"
   ]
  },
  {
   "cell_type": "code",
   "execution_count": 8,
   "metadata": {},
   "outputs": [],
   "source": [
    "# Average annual gross growth of sawlog volume of sawtimber trees, in board feet\n",
    "# 1203_AVGANNGROSSGROWTHSAWTMBR_BRDFT\n",
    "aaggst_parameters = {'snum':'1203', 'wc':statecode, 'rselected':'County code and name', 'cselected':'State', 'outputFormat':'NJSON'}\n",
    "aaggst_brdft_GET = fiadb_api_POST(aaggst_parameters)"
   ]
  },
  {
   "cell_type": "code",
   "execution_count": 9,
   "metadata": {},
   "outputs": [],
   "source": [
    "# 227_AVGREMOVALSAWTMBR_BRDFT\n",
    "arst_parameters = {'snum':'227', 'wc':statecode, 'rselected':'County code and name', 'cselected':'State', 'outputFormat':'NJSON'}\n",
    "arst_brdft_GET = fiadb_api_POST(arst_parameters)"
   ]
  },
  {
   "cell_type": "code",
   "execution_count": 10,
   "metadata": {},
   "outputs": [],
   "source": [
    "# 98_CARBONLIVEABOVEGRND_MT\n",
    "clab_parameters = {'snum':'98', 'wc':statecode, 'rselected':'County code and name', 'cselected':'State', 'outputFormat':'NJSON'}\n",
    "clab_mt_GET = fiadb_api_POST(clab_parameters)"
   ]
  },
  {
   "cell_type": "code",
   "execution_count": 11,
   "metadata": {},
   "outputs": [],
   "source": [
    "# This code block will format the returned data for each estimate and join them BY COUNTY, and export the final .csv\n",
    "# 79_SAMPLEDLANDWATER_ACRES\n",
    "sampledlandwater_acres = sampledlandwater_acres_GET['estimates']\n",
    "slw_acres = sampledlandwater_acres[['GRP1', 'ESTIMATE', 'SE', 'SE_PERCENT', 'PLOT_COUNT']]\n",
    "slw_79_acres = slw_acres.rename(columns={'GRP1': 'STATE_COUNTY_CODE', 'ESTIMATE': '79_SAMPLEDLANDWATER_ACRES'})\n",
    "\n",
    "# 2_FORESTLAND_ACRES\n",
    "forestland_acres = forestland_acres_GET['estimates']\n",
    "fl_acres = forestland_acres[['GRP1', 'ESTIMATE', 'SE', 'SE_PERCENT', 'PLOT_COUNT']]\n",
    "fl_2_acres = fl_acres.rename(columns={'GRP1': 'STATE_COUNTY_CODE', 'ESTIMATE': '2_FORESTLAND_ACRES'})\n",
    "\n",
    "# 20_NETSAWLOGVOLSAWTMBR_BRDFT\n",
    "nslv_brdft = nslv_brdft_GET['estimates']\n",
    "nslv_brdft_temp = nslv_brdft[['GRP1', 'ESTIMATE', 'SE', 'SE_PERCENT', 'PLOT_COUNT']]\n",
    "nslv_20_brdft = nslv_brdft_temp.rename(columns={'GRP1': 'STATE_COUNTY_CODE', 'ESTIMATE': '20_NETSAWLOGVOLSAWTMBR_BRDFT'})\n",
    "\n",
    "# 14_NETMERCHBOLELIVETREES_CBFT\n",
    "nmblt_cbft = nmblt_cbft_GET['estimates']\n",
    "nmblt_cbft_temp = nmblt_cbft[['GRP1', 'ESTIMATE', 'SE', 'SE_PERCENT', 'PLOT_COUNT']]\n",
    "nmblt_14_cbft = nmblt_cbft_temp.rename(columns={'GRP1': 'STATE_COUNTY_CODE', 'ESTIMATE': '14_NETMERCHBOLELIVETREES_CBFT'})\n",
    "\n",
    "# 203_AVGNETGROWTHSAWTMBR_BRDFT\n",
    "angst_brdft = angst_brdft_GET['estimates']\n",
    "angst_brdft_temp = angst_brdft[['GRP1', 'ESTIMATE', 'SE', 'SE_PERCENT', 'PLOT_COUNT']]\n",
    "angst_203_brdft = angst_brdft_temp.rename(columns={'GRP1': 'STATE_COUNTY_CODE', 'ESTIMATE': '203_AVGNETGROWTHSAWTMBR_BRDFT'})\n",
    "\n",
    "# 1203_AVGANNGROSSGROWTHSAWTMBR_BRDFT\n",
    "aaggst_brdft = aaggst_brdft_GET['estimates']\n",
    "aaggst_brdft_temp = aaggst_brdft[['GRP1', 'ESTIMATE', 'SE', 'SE_PERCENT', 'PLOT_COUNT']]\n",
    "aaggst_1203_brdft = aaggst_brdft_temp.rename(columns={'GRP1': 'STATE_COUNTY_CODE', 'ESTIMATE': '1203_AVGANNGROSSGROWTHSAWTMBR_BRDFT'})\n",
    "\n",
    "# 227_AVGREMOVALSAWTMBR_BRDFT\n",
    "arst_brdft = arst_brdft_GET['estimates']\n",
    "arst_brdft_temp = arst_brdft[['GRP1', 'ESTIMATE', 'SE', 'SE_PERCENT', 'PLOT_COUNT']]\n",
    "arst_227_brdft = arst_brdft_temp.rename(columns={'GRP1': 'STATE_COUNTY_CODE', 'ESTIMATE': '227_AVGREMOVALSAWTMBR_BRDFT'})\n",
    "\n",
    "# 98_CARBONLIVEABOVEGRND_MT\n",
    "clab_mt = clab_mt_GET['estimates']\n",
    "clab_mt_temp = clab_mt[['GRP1', 'ESTIMATE', 'SE', 'SE_PERCENT', 'PLOT_COUNT']]\n",
    "clab_98_mt = clab_mt_temp.rename(columns={'GRP1': 'STATE_COUNTY_CODE', 'ESTIMATE': '98_CARBONLIVEABOVEGRND_MT'})"
   ]
  },
  {
   "cell_type": "code",
   "execution_count": null,
   "metadata": {},
   "outputs": [],
   "source": [
    "# Inner Join on dataframes\n",
    "state_data = slw_79_acres.merge(\n",
    "    fl_2_acres, how='left', on='STATE_COUNTY_CODE').merge(\n",
    "    nslv_20_brdft, how='left', on='STATE_COUNTY_CODE').merge(\n",
    "    nmblt_14_cbft, how='left', on='STATE_COUNTY_CODE').merge(\n",
    "    angst_203_brdft, how='left', on='STATE_COUNTY_CODE').merge(\n",
    "    aaggst_1203_brdft, how='left', on='STATE_COUNTY_CODE').merge(\n",
    "    arst_227_brdft, how='left', on='STATE_COUNTY_CODE').merge(\n",
    "    clab_98_mt, how='left', on='STATE_COUNTY_CODE')\n",
    "\n",
    "state_data_temp = state_data.rename(columns={'SE_x': 'SE', 'SE_PERCENT_x': 'SE_PERCENT', 'PLOT_COUNT_x': 'PLOT_COUNT', 'SE_y': 'SE', 'SE_PERCENT_y': 'SE_PERCENT', 'PLOT_COUNT_y': 'PLOT_COUNT'})\n",
    "\n",
    "state_data_final = state_data_temp.fillna(0)"
   ]
  },
  {
   "cell_type": "code",
   "execution_count": 13,
   "metadata": {},
   "outputs": [],
   "source": [
    "state_data_final.to_csv('./state_data_csv_files/' + statename + '_' + statecode + '.csv', index=False)"
   ]
  }
 ],
 "metadata": {
  "kernelspec": {
   "display_name": ".venv",
   "language": "python",
   "name": "python3"
  },
  "language_info": {
   "codemirror_mode": {
    "name": "ipython",
    "version": 3
   },
   "file_extension": ".py",
   "mimetype": "text/x-python",
   "name": "python",
   "nbconvert_exporter": "python",
   "pygments_lexer": "ipython3",
   "version": "3.9.6"
  },
  "orig_nbformat": 4,
  "vscode": {
   "interpreter": {
    "hash": "1d97a4fcfa917332c50e66a2d2d0dafeba53c72f3d00f843a277325a1f7c3e2e"
   }
  }
 },
 "nbformat": 4,
 "nbformat_minor": 2
}
